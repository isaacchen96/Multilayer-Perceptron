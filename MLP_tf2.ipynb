{
 "cells": [
  {
   "cell_type": "code",
   "execution_count": 1,
   "id": "narrow-humanitarian",
   "metadata": {},
   "outputs": [],
   "source": [
    "import tensorflow as tf\n",
    "from tensorflow.keras.layers import *\n",
    "from tensorflow.keras.models import *\n",
    "from tensorflow.keras.optimizers import *\n",
    "from tensorflow.keras.losses import *"
   ]
  },
  {
   "cell_type": "code",
   "execution_count": 2,
   "id": "bigger-israeli",
   "metadata": {},
   "outputs": [],
   "source": [
    "(x_train, y_train), (x_test, y_test) = tf.keras.datasets.boston_housing.load_data()"
   ]
  },
  {
   "cell_type": "code",
   "execution_count": 3,
   "id": "corrected-arrival",
   "metadata": {},
   "outputs": [],
   "source": [
    "inputs = Input(x_train.shape[1:])\n",
    "x = Dense(16, activation='relu', name='dense1')(inputs)\n",
    "x = Dropout(0.3)(x)\n",
    "x = Dense(32, activation='relu', name='dense2')(x)\n",
    "x = Dropout(0.3)(x)\n",
    "x = Dense(16, activation='relu', name='dense3')(x)\n",
    "x = Dropout(0.3)(x)\n",
    "outputs = Dense(1, activation='relu')(x)\n",
    "mlp = Model(inputs, outputs)\n",
    "mlp.compile(optimizer = 'adam', loss = 'mse')"
   ]
  },
  {
   "cell_type": "code",
   "execution_count": 4,
   "id": "indonesian-resort",
   "metadata": {},
   "outputs": [
    {
     "name": "stdout",
     "output_type": "stream",
     "text": [
      "Train on 404 samples, validate on 102 samples\n",
      "Epoch 1/100\n",
      "404/404 [==============================] - 2s 5ms/sample - loss: 1116.2185 - val_loss: 615.8578\n",
      "Epoch 2/100\n",
      "404/404 [==============================] - 1s 2ms/sample - loss: 567.4214 - val_loss: 615.8578\n",
      "Epoch 3/100\n",
      "404/404 [==============================] - 1s 2ms/sample - loss: 544.1399 - val_loss: 541.2835\n",
      "Epoch 4/100\n",
      "404/404 [==============================] - 1s 2ms/sample - loss: 396.7601 - val_loss: 323.4255\n",
      "Epoch 5/100\n",
      "404/404 [==============================] - 1s 2ms/sample - loss: 297.4219 - val_loss: 266.9604\n",
      "Epoch 6/100\n",
      "404/404 [==============================] - 1s 2ms/sample - loss: 216.8725 - val_loss: 307.0860\n",
      "Epoch 7/100\n",
      "404/404 [==============================] - 1s 2ms/sample - loss: 212.3243 - val_loss: 266.8312\n",
      "Epoch 8/100\n",
      "404/404 [==============================] - 1s 2ms/sample - loss: 194.0023 - val_loss: 183.7858\n",
      "Epoch 9/100\n",
      "404/404 [==============================] - 1s 2ms/sample - loss: 165.2786 - val_loss: 211.0632\n",
      "Epoch 10/100\n",
      "404/404 [==============================] - 1s 1ms/sample - loss: 151.4743 - val_loss: 210.6977\n",
      "Epoch 11/100\n",
      "404/404 [==============================] - 1s 1ms/sample - loss: 159.1883 - val_loss: 192.6824\n",
      "Epoch 12/100\n",
      "404/404 [==============================] - 1s 1ms/sample - loss: 151.1621 - val_loss: 169.2671\n",
      "Epoch 13/100\n",
      "404/404 [==============================] - 1s 1ms/sample - loss: 149.4545 - val_loss: 154.9831\n",
      "Epoch 14/100\n",
      "404/404 [==============================] - 1s 2ms/sample - loss: 133.5751 - val_loss: 136.7358\n",
      "Epoch 15/100\n",
      "404/404 [==============================] - 1s 2ms/sample - loss: 128.9573 - val_loss: 127.0334\n",
      "Epoch 16/100\n",
      "404/404 [==============================] - 1s 2ms/sample - loss: 131.9273 - val_loss: 176.5807\n",
      "Epoch 17/100\n",
      "404/404 [==============================] - 1s 1ms/sample - loss: 134.7031 - val_loss: 192.4585\n",
      "Epoch 18/100\n",
      "404/404 [==============================] - 1s 1ms/sample - loss: 119.9551 - val_loss: 151.0324\n",
      "Epoch 19/100\n",
      "404/404 [==============================] - 1s 2ms/sample - loss: 99.3214 - val_loss: 198.3588\n",
      "Epoch 20/100\n",
      "404/404 [==============================] - 1s 2ms/sample - loss: 116.2610 - val_loss: 150.4451\n",
      "Epoch 21/100\n",
      "404/404 [==============================] - 1s 2ms/sample - loss: 123.0435 - val_loss: 178.8886\n",
      "Epoch 22/100\n",
      "404/404 [==============================] - 1s 2ms/sample - loss: 115.2994 - val_loss: 124.3710\n",
      "Epoch 23/100\n",
      "404/404 [==============================] - 1s 1ms/sample - loss: 109.4359 - val_loss: 97.4203\n",
      "Epoch 24/100\n",
      "404/404 [==============================] - 1s 1ms/sample - loss: 104.6837 - val_loss: 182.7485\n",
      "Epoch 25/100\n",
      "404/404 [==============================] - 1s 2ms/sample - loss: 102.3424 - val_loss: 70.6547\n",
      "Epoch 26/100\n",
      "404/404 [==============================] - 1s 2ms/sample - loss: 106.0279 - val_loss: 127.4521\n",
      "Epoch 27/100\n",
      "404/404 [==============================] - 1s 2ms/sample - loss: 97.4159 - val_loss: 107.4011\n",
      "Epoch 28/100\n",
      "404/404 [==============================] - 1s 1ms/sample - loss: 94.0604 - val_loss: 162.3460\n",
      "Epoch 29/100\n",
      "404/404 [==============================] - 1s 1ms/sample - loss: 97.8599 - val_loss: 147.4368\n",
      "Epoch 30/100\n",
      "404/404 [==============================] - 1s 1ms/sample - loss: 97.6671 - val_loss: 124.5339\n",
      "Epoch 31/100\n",
      "404/404 [==============================] - 1s 2ms/sample - loss: 98.1851 - val_loss: 144.2644\n",
      "Epoch 32/100\n",
      "404/404 [==============================] - 1s 1ms/sample - loss: 97.2179 - val_loss: 100.8464\n",
      "Epoch 33/100\n",
      "404/404 [==============================] - 1s 1ms/sample - loss: 90.3905 - val_loss: 141.1316\n",
      "Epoch 34/100\n",
      "404/404 [==============================] - 1s 1ms/sample - loss: 89.1881 - val_loss: 116.0873\n",
      "Epoch 35/100\n",
      "404/404 [==============================] - 1s 1ms/sample - loss: 87.7570 - val_loss: 114.9773\n",
      "Epoch 36/100\n",
      "404/404 [==============================] - 1s 1ms/sample - loss: 89.9514 - val_loss: 140.1505\n",
      "Epoch 37/100\n",
      "404/404 [==============================] - 1s 1ms/sample - loss: 83.4443 - val_loss: 102.4231\n",
      "Epoch 38/100\n",
      "404/404 [==============================] - 1s 1ms/sample - loss: 91.7650 - val_loss: 106.6417\n",
      "Epoch 39/100\n",
      "404/404 [==============================] - 1s 2ms/sample - loss: 75.7564 - val_loss: 108.2119\n",
      "Epoch 40/100\n",
      "404/404 [==============================] - 1s 2ms/sample - loss: 80.0487 - val_loss: 109.1422\n",
      "Epoch 41/100\n",
      "404/404 [==============================] - 1s 2ms/sample - loss: 82.8751 - val_loss: 119.4933\n",
      "Epoch 42/100\n",
      "404/404 [==============================] - 1s 2ms/sample - loss: 84.3225 - val_loss: 66.7586\n",
      "Epoch 43/100\n",
      "404/404 [==============================] - 1s 2ms/sample - loss: 80.4486 - val_loss: 111.1566\n",
      "Epoch 44/100\n",
      "404/404 [==============================] - 1s 1ms/sample - loss: 90.9154 - val_loss: 70.6137\n",
      "Epoch 45/100\n",
      "404/404 [==============================] - 1s 1ms/sample - loss: 74.6011 - val_loss: 108.0918\n",
      "Epoch 46/100\n",
      "404/404 [==============================] - 1s 1ms/sample - loss: 78.4201 - val_loss: 100.4167\n",
      "Epoch 47/100\n",
      "404/404 [==============================] - 1s 1ms/sample - loss: 66.0251 - val_loss: 100.0832\n",
      "Epoch 48/100\n",
      "404/404 [==============================] - 1s 1ms/sample - loss: 68.1350 - val_loss: 52.3862\n",
      "Epoch 49/100\n",
      "404/404 [==============================] - 1s 1ms/sample - loss: 72.1179 - val_loss: 104.2714\n",
      "Epoch 50/100\n",
      "404/404 [==============================] - 1s 2ms/sample - loss: 80.3733 - val_loss: 134.7378\n",
      "Epoch 51/100\n",
      "404/404 [==============================] - 1s 1ms/sample - loss: 69.5781 - val_loss: 85.2920\n",
      "Epoch 52/100\n",
      "404/404 [==============================] - 1s 1ms/sample - loss: 66.1170 - val_loss: 84.0981\n",
      "Epoch 53/100\n",
      "404/404 [==============================] - 1s 1ms/sample - loss: 69.0448 - val_loss: 86.0846\n",
      "Epoch 54/100\n",
      "404/404 [==============================] - 1s 1ms/sample - loss: 62.4283 - val_loss: 103.2361\n",
      "Epoch 55/100\n",
      "404/404 [==============================] - 1s 1ms/sample - loss: 67.6623 - val_loss: 109.6658\n",
      "Epoch 56/100\n",
      "404/404 [==============================] - 1s 1ms/sample - loss: 61.9669 - val_loss: 105.2255\n",
      "Epoch 57/100\n",
      "404/404 [==============================] - 1s 1ms/sample - loss: 67.4212 - val_loss: 112.5555\n",
      "Epoch 58/100\n",
      "404/404 [==============================] - 1s 2ms/sample - loss: 56.3244 - val_loss: 107.5861\n",
      "Epoch 59/100\n",
      "404/404 [==============================] - 1s 2ms/sample - loss: 63.7310 - val_loss: 113.7603\n",
      "Epoch 60/100\n",
      "404/404 [==============================] - 1s 1ms/sample - loss: 64.1451 - val_loss: 102.5388\n",
      "Epoch 61/100\n",
      "404/404 [==============================] - 1s 1ms/sample - loss: 62.6717 - val_loss: 59.1266\n",
      "Epoch 62/100\n",
      "404/404 [==============================] - 1s 1ms/sample - loss: 64.2833 - val_loss: 78.1342\n",
      "Epoch 63/100\n",
      "404/404 [==============================] - 1s 1ms/sample - loss: 60.8911 - val_loss: 134.7923\n",
      "Epoch 64/100\n",
      "404/404 [==============================] - 1s 1ms/sample - loss: 58.6874 - val_loss: 102.1153\n",
      "Epoch 65/100\n",
      "404/404 [==============================] - 1s 1ms/sample - loss: 57.4264 - val_loss: 106.0415\n",
      "Epoch 66/100\n",
      "404/404 [==============================] - 1s 1ms/sample - loss: 61.2299 - val_loss: 70.4156\n",
      "Epoch 67/100\n",
      "404/404 [==============================] - 1s 2ms/sample - loss: 56.2757 - val_loss: 76.9863\n",
      "Epoch 68/100\n",
      "404/404 [==============================] - 1s 1ms/sample - loss: 56.7661 - val_loss: 70.1661\n",
      "Epoch 69/100\n",
      "404/404 [==============================] - 1s 1ms/sample - loss: 50.4721 - val_loss: 62.3581\n",
      "Epoch 70/100\n",
      "404/404 [==============================] - 1s 2ms/sample - loss: 65.1124 - val_loss: 89.1840\n",
      "Epoch 71/100\n",
      "404/404 [==============================] - 1s 1ms/sample - loss: 55.9863 - val_loss: 88.0471\n",
      "Epoch 72/100\n",
      "404/404 [==============================] - 1s 1ms/sample - loss: 51.8504 - val_loss: 104.5600\n",
      "Epoch 73/100\n",
      "404/404 [==============================] - 1s 1ms/sample - loss: 53.4449 - val_loss: 92.3360\n",
      "Epoch 74/100\n",
      "404/404 [==============================] - 1s 2ms/sample - loss: 50.2619 - val_loss: 84.3051\n",
      "Epoch 75/100\n",
      "404/404 [==============================] - 1s 2ms/sample - loss: 57.2784 - val_loss: 90.4060\n",
      "Epoch 76/100\n",
      "404/404 [==============================] - 1s 2ms/sample - loss: 47.8589 - val_loss: 77.7736\n",
      "Epoch 77/100\n",
      "404/404 [==============================] - 1s 2ms/sample - loss: 45.6554 - val_loss: 65.6464\n",
      "Epoch 78/100\n",
      "404/404 [==============================] - 1s 2ms/sample - loss: 46.3194 - val_loss: 63.5153\n",
      "Epoch 79/100\n",
      "404/404 [==============================] - 1s 2ms/sample - loss: 41.9763 - val_loss: 92.2880\n",
      "Epoch 80/100\n",
      "404/404 [==============================] - 1s 1ms/sample - loss: 57.0879 - val_loss: 64.9747\n",
      "Epoch 81/100\n",
      "404/404 [==============================] - 1s 2ms/sample - loss: 52.2908 - val_loss: 59.2313\n",
      "Epoch 82/100\n",
      "404/404 [==============================] - 1s 1ms/sample - loss: 48.5949 - val_loss: 72.1435\n",
      "Epoch 83/100\n",
      "404/404 [==============================] - 1s 2ms/sample - loss: 50.4356 - val_loss: 78.2300\n",
      "Epoch 84/100\n",
      "404/404 [==============================] - 1s 2ms/sample - loss: 50.6522 - val_loss: 58.8615\n",
      "Epoch 85/100\n",
      "404/404 [==============================] - 1s 2ms/sample - loss: 43.9410 - val_loss: 70.4412\n",
      "Epoch 86/100\n",
      "404/404 [==============================] - 1s 2ms/sample - loss: 44.6750 - val_loss: 54.3846\n",
      "Epoch 87/100\n",
      "404/404 [==============================] - 1s 2ms/sample - loss: 47.5565 - val_loss: 76.6975\n",
      "Epoch 88/100\n",
      "404/404 [==============================] - 1s 2ms/sample - loss: 37.8551 - val_loss: 49.2738\n",
      "Epoch 89/100\n",
      "404/404 [==============================] - 1s 2ms/sample - loss: 39.8469 - val_loss: 94.9582\n",
      "Epoch 90/100\n",
      "404/404 [==============================] - 1s 2ms/sample - loss: 51.7618 - val_loss: 88.0898\n",
      "Epoch 91/100\n",
      "404/404 [==============================] - 1s 2ms/sample - loss: 40.8131 - val_loss: 45.6117\n",
      "Epoch 92/100\n",
      "404/404 [==============================] - 1s 2ms/sample - loss: 41.2847 - val_loss: 58.5370\n",
      "Epoch 93/100\n",
      "404/404 [==============================] - 1s 2ms/sample - loss: 41.1134 - val_loss: 61.0356\n",
      "Epoch 94/100\n",
      "404/404 [==============================] - 1s 2ms/sample - loss: 40.2166 - val_loss: 60.4128\n",
      "Epoch 95/100\n",
      "404/404 [==============================] - 1s 2ms/sample - loss: 48.5301 - val_loss: 70.4784\n",
      "Epoch 96/100\n",
      "404/404 [==============================] - 1s 2ms/sample - loss: 37.3108 - val_loss: 45.9082\n",
      "Epoch 97/100\n",
      "404/404 [==============================] - 1s 2ms/sample - loss: 41.2845 - val_loss: 56.3075\n",
      "Epoch 98/100\n",
      "404/404 [==============================] - 1s 2ms/sample - loss: 40.6734 - val_loss: 51.1959\n",
      "Epoch 99/100\n",
      "404/404 [==============================] - 1s 2ms/sample - loss: 39.5855 - val_loss: 62.4398\n",
      "Epoch 100/100\n",
      "404/404 [==============================] - 1s 2ms/sample - loss: 43.5085 - val_loss: 53.7114\n"
     ]
    }
   ],
   "source": [
    "history = mlp.fit(x_train, y_train,\n",
    "           epochs = 100,\n",
    "           batch_size = 1,\n",
    "           validation_data = [x_test, y_test])"
   ]
  },
  {
   "cell_type": "code",
   "execution_count": 5,
   "id": "cosmetic-disney",
   "metadata": {},
   "outputs": [
    {
     "data": {
      "image/png": "[encoded data removed]",
      "text/plain": [
       "<Figure size 432x288 with 1 Axes>"
      ]
     },
     "metadata": {
      "needs_background": "light"
     },
     "output_type": "display_data"
    }
   ],
   "source": [
    "from matplotlib import pyplot as plt\n",
    "plt.plot(history.history['loss'])\n",
    "plt.plot(history.history['val_loss'])\n",
    "plt.title('model loss')\n",
    "plt.legend(['Train', 'Test'])\n",
    "plt.show()"
   ]
  },
  {
   "cell_type": "code",
   "execution_count": 6,
   "id": "traditional-candidate",
   "metadata": {},
   "outputs": [],
   "source": [
    "y_pred = mlp.predict(x_test)"
   ]
  },
  {
   "cell_type": "code",
   "execution_count": 7,
   "id": "norwegian-maldives",
   "metadata": {},
   "outputs": [
    {
     "data": {
      "text/plain": [
       "array([[14.496639],\n",
       "       [15.953167],\n",
       "       [18.412804],\n",
       "       [25.706963],\n",
       "       [19.564528],\n",
       "       [17.332376],\n",
       "       [23.579506],\n",
       "       [20.083427],\n",
       "       [15.422651],\n",
       "       [17.614943]], dtype=float32)"
      ]
     },
     "execution_count": 7,
     "metadata": {},
     "output_type": "execute_result"
    }
   ],
   "source": [
    "y_pred[:10]"
   ]
  },
  {
   "cell_type": "code",
   "execution_count": 9,
   "id": "written-attachment",
   "metadata": {},
   "outputs": [
    {
     "data": {
      "text/plain": [
       "(102,)"
      ]
     },
     "execution_count": 9,
     "metadata": {},
     "output_type": "execute_result"
    }
   ],
   "source": [
    "y_test.shape"
   ]
  },
  {
   "cell_type": "code",
   "execution_count": null,
   "id": "promotional-blade",
   "metadata": {},
   "outputs": [],
   "source": []
  }
 ],
 "metadata": {
  "kernelspec": {
   "display_name": "Python 3",
   "language": "python",
   "name": "python3"
  },
  "language_info": {
   "codemirror_mode": {
    "name": "ipython",
    "version": 3
   },
   "file_extension": ".py",
   "mimetype": "text/x-python",
   "name": "python",
   "nbconvert_exporter": "python",
   "pygments_lexer": "ipython3",
   "version": "3.6.12"
  }
 },
 "nbformat": 4,
 "nbformat_minor": 5
}
